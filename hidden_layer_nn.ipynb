{
 "cells": [
  {
   "cell_type": "markdown",
   "metadata": {},
   "source": [
    "# Neural Network Hidden Layers\n",
    "As we've seen and discussed, hidden layers are layers in a neural network we don't directly interact with (not input or output layers) and are one of the tools Neural Networks use to overcome linearity (as well as some other hurdles in ML).\n",
    "\n",
    "In this notebook we'll explore how we can implement a MLP or deep network to solve problems.\n",
    "\n",
    "----"
   ]
  },
  {
   "cell_type": "markdown",
   "metadata": {},
   "source": [
    "## Setting Up Our Data\n",
    "We'll use the same problem as earlier to keep our math simple:\n",
    "\n",
    "$$ y = X_1+X_2+5 $$"
   ]
  },
  {
   "cell_type": "code",
   "execution_count": null,
   "metadata": {
    "tags": []
   },
   "outputs": [],
   "source": [
    "import numpy as np\n",
    "\n",
    "np.random.seed(10)\n",
    "\n",
    "X = np.random.randint(1, 20, size=(1000,2)) # Our inputs\n",
    "\n",
    "# Our output will be the sum of the array plus five\n",
    "Y = X.sum(axis=1) + 5\n",
    "\n",
    "add_intercept = True # Do we want to add an intercept term\n",
    "if add_intercept:\n",
    "    # Same thing as with logistic, need a placeholder in front for intercept\n",
    "    X = np.pad(X, [(0, 0), (1,0)], 'constant', constant_values=1)\n",
    "\n",
    "\n",
    "print(f'Our feature space:\\n{X[:5]}\\n')\n",
    "print(f'Our outputs:\\n{Y[:5]}\\n')"
   ]
  },
  {
   "cell_type": "markdown",
   "metadata": {},
   "source": [
    "## Creating our Model\n",
    "Below is a python class that contains most of the standard features for a Neural Network model. We have functionality to:\n",
    " - initializing our model/generate weights\n",
    " - feed forward/forward pass\n",
    " - backwards propogation\n",
    " - training\n",
    "\n",
    "We'll also work on adding:\n",
    " - loss calculation\n",
    " - inferencing\n",
    "\n",
    "And if there is time we may also look at:\n",
    " - batch processing\n",
    " - modifying our network for multiple types of tasks\n",
    " - activation functions"
   ]
  },
  {
   "cell_type": "code",
   "execution_count": 126,
   "metadata": {
    "tags": []
   },
   "outputs": [],
   "source": [
    "class SimpleNN():\n",
    "    def __init__(self, input_dim=3, output_dim=1, hidden_layers=[3], lr=0.001):\n",
    "        self.hidden_layers = hidden_layers\n",
    "        self.num_hidden_layers = len(hidden_layers)\n",
    "        self.input_dim = input_dim\n",
    "        self.output_dim = output_dim\n",
    "        self.weights = []\n",
    "        self.history = []\n",
    "        \n",
    "        self.lr = lr\n",
    "        self.z = []\n",
    "        self.y_hat = None\n",
    "\n",
    "        self.generate_weights()\n",
    "\n",
    "    def generate_weights(self):\n",
    "        # For any simple network we need a weight matrix between each layer of the network\n",
    "        # That means Input -> Hidden Layers -> Output\n",
    "        num_weights = self.num_hidden_layers + 1\n",
    "        prev_layer_dim = self.input_dim\n",
    "        for ix in range(num_weights-1):\n",
    "            curr_layer_dim = self.hidden_layers[ix]\n",
    "            curr_weights = np.random.normal(size=(prev_layer_dim, curr_layer_dim))\n",
    "            self.weights.append(curr_weights)\n",
    "            prev_layer_dim = curr_layer_dim\n",
    "        \n",
    "        curr_weights = np.random.normal(size=(prev_layer_dim, self.output_dim))\n",
    "        self.weights.append(curr_weights)\n",
    "\n",
    "    def feed_forward(self, x):\n",
    "        z = x\n",
    "        for ix in range(self.num_hidden_layers + 1):\n",
    "            z = z.dot(self.weights[ix])\n",
    "            self.z.append(z)\n",
    "        return z\n",
    "\n",
    "    def backwards_prop(self, x, y):\n",
    "        prev_error = y.reshape(-1, 1) - self.z[-1]\n",
    "        self.history.append(prev_error)\n",
    "        for ix in range(self.num_hidden_layers + 1)[::-1]:\n",
    "            w_gradient = -self.z[ix].T.dot(prev_error)\n",
    "            w_gradient /= y.shape[0]\n",
    "            prev_error = prev_error.dot(self.weights[ix].T)\n",
    "            self.weights[ix] -= self.lr * w_gradient\n",
    "\n",
    "    # TODO: Add logic to print out the MSE at each step of our training\n",
    "    def train(self, x, y, epochs=10):\n",
    "        self.z.append(x)\n",
    "        for _ in range(epochs):\n",
    "            self.feed_forward(x)\n",
    "            print(self.mse(x, y))\n",
    "            self.backwards_prop(x, y)\n",
    "\n",
    "    # TODO: Implement this function\n",
    "    def inference(self, x):\n",
    "        return self.feed_forward(x)\n",
    "    \n",
    "    # TODO: Implement this function\n",
    "    def mse(self, x, y):\n",
    "        preds = self.feed_forward(x).reshape(-1)\n",
    "        y_array = np.array(y).reshape(-1)\n",
    "        return np.round(np.mean((preds - y_array)**2), 2)\n",
    "    \n",
    "    def __repr__(self):\n",
    "        return(f\"Model:\\\n",
    "              \\n\\tInputs - {self.input_dim}\\\n",
    "              \\n\\tOutputs - {self.output_dim}\\\n",
    "              \\n\\tLayers - {self.hidden_layers}\\\n",
    "              \\n\\tWeights - {[x.shape for x in self.weights]}\"\n",
    "              )"
   ]
  },
  {
   "cell_type": "code",
   "execution_count": null,
   "metadata": {},
   "outputs": [],
   "source": [
    "model = SimpleNN(hidden_layers=[3], lr=0.001)\n",
    "print(model.weights[0])"
   ]
  },
  {
   "cell_type": "code",
   "execution_count": null,
   "metadata": {
    "tags": []
   },
   "outputs": [],
   "source": [
    "model.train(X, Y, epochs=250)"
   ]
  },
  {
   "cell_type": "code",
   "execution_count": null,
   "metadata": {
    "tags": []
   },
   "outputs": [],
   "source": [
    "print(Y[:10])\n",
    "model.inference(X[:10])"
   ]
  },
  {
   "cell_type": "code",
   "execution_count": null,
   "metadata": {
    "tags": []
   },
   "outputs": [],
   "source": [
    "model.weights"
   ]
  },
  {
   "cell_type": "code",
   "execution_count": null,
   "metadata": {},
   "outputs": [],
   "source": []
  }
 ],
 "metadata": {
  "kernelspec": {
   "display_name": "Python 3 (ipykernel)",
   "language": "python",
   "name": "python3"
  },
  "language_info": {
   "codemirror_mode": {
    "name": "ipython",
    "version": 3
   },
   "file_extension": ".py",
   "mimetype": "text/x-python",
   "name": "python",
   "nbconvert_exporter": "python",
   "pygments_lexer": "ipython3",
   "version": "3.10.12"
  }
 },
 "nbformat": 4,
 "nbformat_minor": 4
}
